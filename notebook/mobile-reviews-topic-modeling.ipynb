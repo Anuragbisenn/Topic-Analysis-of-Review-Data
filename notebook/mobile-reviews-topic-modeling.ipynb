{
 "cells": [
  {
   "cell_type": "markdown",
   "id": "af15b270",
   "metadata": {
    "papermill": {
     "duration": 0.024443,
     "end_time": "2021-08-24T19:22:43.054139",
     "exception": false,
     "start_time": "2021-08-24T19:22:43.029696",
     "status": "completed"
    },
    "tags": []
   },
   "source": [
    "## _Topic Modeling based on Reviews_\n",
    "***\n",
    "<b>DESCRIPTION</b>\n",
    "\n",
    "Help a leading mobile brand understand the voice of the customer by analyzing the reviews of their product on Amazon and the topics that customers are talking about. You will perform topic modeling on specific parts of speech. You’ll finally interpret the emerging topics.\n",
    "\n",
    "<b>Problem Statement: </b>\n",
    "\n",
    "A popular mobile phone brand, Lenovo has launched their budget smartphone in the Indian market. The client wants to understand the VOC (voice of the customer) on the product. This will be useful to not just evaluate the current product, but to also get some direction for developing the product pipeline. The client is particularly interested in the different aspects that customers care about. Product reviews by customers on a leading e-commerce site should provide a good view.\n",
    "\n",
    "<b>Domain: Amazon reviews for a leading phone brand</b>\n",
    "\n",
    "- Analysis to be done: POS tagging, topic modeling using LDA, and topic interpretation\n",
    "\n",
    "<b> Content: </b>\n",
    "\n",
    "- Dataset: ‘K8 Reviews v0.2.csv’\n",
    "\n",
    "<b>Columns:</b>\n",
    "- Sentiment: The sentiment against the review (4,5 star reviews are positive, 1,2 are negative)\n",
    "- Reviews: The main text of the review\n",
    "\n",
    "<b>Steps to perform:</b>\n",
    "\n",
    "Discover the topics in the reviews and present it to business in a consumable format. Employ techniques in syntactic processing and topic modeling.\n",
    "Perform specific cleanup, POS tagging, and restricting to relevant POS tags, then, perform topic modeling using LDA. Finally, give business-friendly names to the topics and make a table for business.\n",
    "\n",
    "<b>Tasks: </b>\n",
    "- Read the .csv file using Pandas. Take a look at the top few records.\n",
    "- Normalize casings for the review text and extract the text into a list for easier manipulation.\n",
    "- Tokenize the reviews using NLTKs word_tokenize function.\n",
    "- Perform parts-of-speech tagging on each sentence using the NLTK POS tagger.\n",
    "- For the topic model, we should  want to include only nouns.\n",
    "- Find out all the POS tags that correspond to nouns.\n",
    "- Limit the data to only terms with these tags.\n",
    "- Lemmatize. \n",
    "- Different forms of the terms need to be treated as one.\n",
    "- No need to provide POS tag to lemmatizer for now.\n",
    "- Remove stopwords and punctuation (if there are any). \n",
    "- Create a topic model using LDA on the cleaned up data with 12 topics.\n",
    "- Print out the top terms for each topic.\n",
    "- What is the coherence of the model with the c_v metric?\n",
    "- Analyze the topics through the business lens.\n",
    "- Determine which of the topics can be combined.\n",
    "- Create topic model using LDA with what you think is the optimal number of topics\n",
    "- What is the coherence of the model?\n",
    "- The business should  be able to interpret the topics.\n",
    "- Name each of the identified topics.\n",
    "- Create a table with the topic name and the top 10 terms in each to present to the  business.\n",
    "\n"
   ]
  },
  {
   "cell_type": "markdown",
   "id": "d256735d",
   "metadata": {
    "papermill": {
     "duration": 0.0238,
     "end_time": "2021-08-24T19:22:43.101155",
     "exception": false,
     "start_time": "2021-08-24T19:22:43.077355",
     "status": "completed"
    },
    "tags": []
   },
   "source": [
    "## _Import Libraries and Load the Data_"
   ]
  },
  {
   "cell_type": "code",
   "execution_count": 1,
   "id": "177c0792",
   "metadata": {
    "execution": {
     "iopub.execute_input": "2021-08-24T19:22:43.165235Z",
     "iopub.status.busy": "2021-08-24T19:22:43.164557Z",
     "iopub.status.idle": "2021-08-24T19:22:44.699057Z",
     "shell.execute_reply": "2021-08-24T19:22:44.698390Z",
     "shell.execute_reply.started": "2021-08-24T19:07:39.312174Z"
    },
    "papermill": {
     "duration": 1.575109,
     "end_time": "2021-08-24T19:22:44.699220",
     "exception": false,
     "start_time": "2021-08-24T19:22:43.124111",
     "status": "completed"
    },
    "tags": []
   },
   "outputs": [],
   "source": [
    "#data manipulation\n",
    "import numpy as np\n",
    "import pandas as pd\n",
    "import tqdm\n",
    "#file and system operations\n",
    "import os\n",
    "import sys\n",
    "assert sys.version_info >= (3,5)\n",
    "#visualization imports\n",
    "import matplotlib.pyplot as plt\n",
    "import seaborn as sns\n",
    "%matplotlib inline\n",
    "#consistent sized plots\n",
    "from pylab import rcParams\n",
    "rcParams['figure.figsize']=12,5\n",
    "rcParams['axes.labelsize']=12\n",
    "rcParams['ytick.labelsize']=12\n",
    "rcParams['xtick.labelsize']=12\n",
    "#handle unwanted warnings \n",
    "import warnings\n",
    "warnings.filterwarnings(action='ignore',category=DeprecationWarning)\n",
    "warnings.filterwarnings(action='ignore',category=FutureWarning)\n",
    "#view all the columns\n",
    "pd.options.display.max_columns = None\n",
    "#basic text manipulation libraries\n",
    "from nltk.tokenize import word_tokenize\n",
    "from nltk.tokenize import sent_tokenize\n",
    "from nltk.corpus import stopwords\n",
    "from nltk.stem import SnowballStemmer\n",
    "from nltk.stem import WordNetLemmatizer"
   ]
  },
  {
   "cell_type": "markdown",
   "id": "c69dca45",
   "metadata": {
    "papermill": {
     "duration": 0.024363,
     "end_time": "2021-08-24T19:22:44.747639",
     "exception": false,
     "start_time": "2021-08-24T19:22:44.723276",
     "status": "completed"
    },
    "tags": []
   },
   "source": [
    "### _Load the Reviews Data_"
   ]
  },
  {
   "cell_type": "code",
   "execution_count": 2,
   "id": "4e19ebf6",
   "metadata": {
    "execution": {
     "iopub.execute_input": "2021-08-24T19:22:44.808894Z",
     "iopub.status.busy": "2021-08-24T19:22:44.808302Z",
     "iopub.status.idle": "2021-08-24T19:22:45.041789Z",
     "shell.execute_reply": "2021-08-24T19:22:45.042211Z",
     "shell.execute_reply.started": "2021-08-24T19:07:40.808130Z"
    },
    "papermill": {
     "duration": 0.268167,
     "end_time": "2021-08-24T19:22:45.042352",
     "exception": false,
     "start_time": "2021-08-24T19:22:44.774185",
     "status": "completed"
    },
    "tags": []
   },
   "outputs": [
    {
     "data": {
      "text/html": [
       "<div>\n",
       "<style scoped>\n",
       "    .dataframe tbody tr th:only-of-type {\n",
       "        vertical-align: middle;\n",
       "    }\n",
       "\n",
       "    .dataframe tbody tr th {\n",
       "        vertical-align: top;\n",
       "    }\n",
       "\n",
       "    .dataframe thead th {\n",
       "        text-align: right;\n",
       "    }\n",
       "</style>\n",
       "<table border=\"1\" class=\"dataframe\">\n",
       "  <thead>\n",
       "    <tr style=\"text-align: right;\">\n",
       "      <th></th>\n",
       "      <th>sentiment</th>\n",
       "      <th>review</th>\n",
       "    </tr>\n",
       "  </thead>\n",
       "  <tbody>\n",
       "    <tr>\n",
       "      <th>0</th>\n",
       "      <td>1</td>\n",
       "      <td>Good but need updates and improvements</td>\n",
       "    </tr>\n",
       "    <tr>\n",
       "      <th>1</th>\n",
       "      <td>0</td>\n",
       "      <td>Worst mobile i have bought ever, Battery is dr...</td>\n",
       "    </tr>\n",
       "    <tr>\n",
       "      <th>2</th>\n",
       "      <td>1</td>\n",
       "      <td>when I will get my 10% cash back.... its alrea...</td>\n",
       "    </tr>\n",
       "  </tbody>\n",
       "</table>\n",
       "</div>"
      ],
      "text/plain": [
       "   sentiment                                             review\n",
       "0          1             Good but need updates and improvements\n",
       "1          0  Worst mobile i have bought ever, Battery is dr...\n",
       "2          1  when I will get my 10% cash back.... its alrea..."
      ]
     },
     "execution_count": 2,
     "metadata": {},
     "output_type": "execute_result"
    }
   ],
   "source": [
    "reviews = pd.read_csv('/kaggle/input/mobile-reviews/K8 Reviews v0.2.csv',delimiter=',',engine='python')\n",
    "reviews.head(3)"
   ]
  },
  {
   "cell_type": "code",
   "execution_count": 3,
   "id": "13aca2fd",
   "metadata": {
    "execution": {
     "iopub.execute_input": "2021-08-24T19:22:45.095684Z",
     "iopub.status.busy": "2021-08-24T19:22:45.095165Z",
     "iopub.status.idle": "2021-08-24T19:22:45.100852Z",
     "shell.execute_reply": "2021-08-24T19:22:45.100434Z",
     "shell.execute_reply.started": "2021-08-24T19:07:41.037358Z"
    },
    "papermill": {
     "duration": 0.034942,
     "end_time": "2021-08-24T19:22:45.100966",
     "exception": false,
     "start_time": "2021-08-24T19:22:45.066024",
     "status": "completed"
    },
    "tags": []
   },
   "outputs": [
    {
     "data": {
      "text/plain": [
       "14675"
      ]
     },
     "execution_count": 3,
     "metadata": {},
     "output_type": "execute_result"
    }
   ],
   "source": [
    "#check the number of reviews \n",
    "len(reviews)"
   ]
  },
  {
   "cell_type": "code",
   "execution_count": 4,
   "id": "0e694d3c",
   "metadata": {
    "execution": {
     "iopub.execute_input": "2021-08-24T19:22:45.166261Z",
     "iopub.status.busy": "2021-08-24T19:22:45.165699Z",
     "iopub.status.idle": "2021-08-24T19:22:45.171272Z",
     "shell.execute_reply": "2021-08-24T19:22:45.170879Z",
     "shell.execute_reply.started": "2021-08-24T19:07:41.048036Z"
    },
    "papermill": {
     "duration": 0.046826,
     "end_time": "2021-08-24T19:22:45.171386",
     "exception": false,
     "start_time": "2021-08-24T19:22:45.124560",
     "status": "completed"
    },
    "tags": []
   },
   "outputs": [
    {
     "name": "stdout",
     "output_type": "stream",
     "text": [
      "<class 'pandas.core.frame.DataFrame'>\n",
      "RangeIndex: 14675 entries, 0 to 14674\n",
      "Data columns (total 2 columns):\n",
      " #   Column     Non-Null Count  Dtype \n",
      "---  ------     --------------  ----- \n",
      " 0   sentiment  14675 non-null  int64 \n",
      " 1   review     14675 non-null  object\n",
      "dtypes: int64(1), object(1)\n",
      "memory usage: 229.4+ KB\n"
     ]
    }
   ],
   "source": [
    "#check the basic info\n",
    "reviews.info()"
   ]
  },
  {
   "cell_type": "markdown",
   "id": "a31a57c3",
   "metadata": {
    "papermill": {
     "duration": 0.024288,
     "end_time": "2021-08-24T19:22:45.220974",
     "exception": false,
     "start_time": "2021-08-24T19:22:45.196686",
     "status": "completed"
    },
    "tags": []
   },
   "source": [
    "- _There are no null values or missing values in the dataset_"
   ]
  },
  {
   "cell_type": "code",
   "execution_count": 5,
   "id": "36f9b524",
   "metadata": {
    "execution": {
     "iopub.execute_input": "2021-08-24T19:22:45.275322Z",
     "iopub.status.busy": "2021-08-24T19:22:45.274556Z",
     "iopub.status.idle": "2021-08-24T19:22:45.280494Z",
     "shell.execute_reply": "2021-08-24T19:22:45.280094Z",
     "shell.execute_reply.started": "2021-08-24T19:07:41.069392Z"
    },
    "papermill": {
     "duration": 0.035409,
     "end_time": "2021-08-24T19:22:45.280601",
     "exception": false,
     "start_time": "2021-08-24T19:22:45.245192",
     "status": "completed"
    },
    "tags": []
   },
   "outputs": [
    {
     "data": {
      "text/plain": [
       "0    7712\n",
       "1    6963\n",
       "Name: sentiment, dtype: int64"
      ]
     },
     "execution_count": 5,
     "metadata": {},
     "output_type": "execute_result"
    }
   ],
   "source": [
    "#check the sentiment labels\n",
    "reviews['sentiment'].value_counts()"
   ]
  },
  {
   "cell_type": "code",
   "execution_count": 6,
   "id": "ed2ca9b5",
   "metadata": {
    "execution": {
     "iopub.execute_input": "2021-08-24T19:22:45.333381Z",
     "iopub.status.busy": "2021-08-24T19:22:45.332820Z",
     "iopub.status.idle": "2021-08-24T19:22:45.468586Z",
     "shell.execute_reply": "2021-08-24T19:22:45.468992Z",
     "shell.execute_reply.started": "2021-08-24T19:07:41.079497Z"
    },
    "papermill": {
     "duration": 0.164479,
     "end_time": "2021-08-24T19:22:45.469137",
     "exception": false,
     "start_time": "2021-08-24T19:22:45.304658",
     "status": "completed"
    },
    "tags": []
   },
   "outputs": [
    {
     "data": {
      "image/png": "[encoded data removed]",
      "text/plain": [
       "<Figure size 864x360 with 1 Axes>"
      ]
     },
     "metadata": {
      "needs_background": "light"
     },
     "output_type": "display_data"
    }
   ],
   "source": [
    "sns.countplot(reviews['sentiment'])\n",
    "plt.title('Count of the review sentiments')\n",
    "plt.show()"
   ]
  },
  {
   "cell_type": "markdown",
   "id": "f4160d56",
   "metadata": {
    "papermill": {
     "duration": 0.02459,
     "end_time": "2021-08-24T19:22:45.519225",
     "exception": false,
     "start_time": "2021-08-24T19:22:45.494635",
     "status": "completed"
    },
    "tags": []
   },
   "source": [
    "- _The data seems to be fairly balanced. However, the objective of this project is to do topic modeling and not sentiment classification_"
   ]
  },
  {
   "cell_type": "code",
   "execution_count": 7,
   "id": "107d3745",
   "metadata": {
    "execution": {
     "iopub.execute_input": "2021-08-24T19:22:45.573782Z",
     "iopub.status.busy": "2021-08-24T19:22:45.573267Z",
     "iopub.status.idle": "2021-08-24T19:22:45.578212Z",
     "shell.execute_reply": "2021-08-24T19:22:45.577774Z",
     "shell.execute_reply.started": "2021-08-24T19:07:41.224906Z"
    },
    "papermill": {
     "duration": 0.033878,
     "end_time": "2021-08-24T19:22:45.578322",
     "exception": false,
     "start_time": "2021-08-24T19:22:45.544444",
     "status": "completed"
    },
    "tags": []
   },
   "outputs": [
    {
     "name": "stdout",
     "output_type": "stream",
     "text": [
      "Simply put, \"Jack of all trades, Master of None\".Battery backup - Below par (this was sad considering 4K mah battery)Heating - Not within acceptable limits, uncomfortable post 15 mins of usage. (got to do with Mediatek processor)Gaming - Below par (Games like subway surfer too with frequent FPS drops & lags, which was really unacceptable, probable because of poor GPU)Dolby Atmos - No real difference when compared to other phonesDesign - Bulky but AppealingDaily use Apps - Glides like its on rails, but with frequent crashing!!!Primary Camera - AverageSelfie Cam - Good\n"
     ]
    }
   ],
   "source": [
    "#check randomly any of the reviews\n",
    "random = np.random.randint(1,len(reviews))\n",
    "print(reviews['review'][random])"
   ]
  },
  {
   "cell_type": "markdown",
   "id": "7a1672ae",
   "metadata": {
    "papermill": {
     "duration": 0.025103,
     "end_time": "2021-08-24T19:22:45.628177",
     "exception": false,
     "start_time": "2021-08-24T19:22:45.603074",
     "status": "completed"
    },
    "tags": []
   },
   "source": [
    "## _Text Preprocessing_\n",
    "_Following steps will be performed_\n",
    "- _Tokenization - Split the text into sentences and sentences into words. Lowercase the words and remove any punctuation_\n",
    "- _Words that are fewer than 3 characters will be removed_\n",
    "- _All stopwords will be removed_\n",
    "- _Words are lemmatized - words in third person are changed to first person and words in future and past tense are changed to present tense_\n",
    "- _Words are stemmed - words are reduced to the root form_"
   ]
  },
  {
   "cell_type": "code",
   "execution_count": 8,
   "id": "22232266",
   "metadata": {
    "execution": {
     "iopub.execute_input": "2021-08-24T19:22:45.681493Z",
     "iopub.status.busy": "2021-08-24T19:22:45.680873Z",
     "iopub.status.idle": "2021-08-24T19:22:45.980574Z",
     "shell.execute_reply": "2021-08-24T19:22:45.981822Z",
     "shell.execute_reply.started": "2021-08-24T19:07:41.234473Z"
    },
    "papermill": {
     "duration": 0.328863,
     "end_time": "2021-08-24T19:22:45.982069",
     "exception": false,
     "start_time": "2021-08-24T19:22:45.653206",
     "status": "completed"
    },
    "tags": []
   },
   "outputs": [],
   "source": [
    "#load the gensim library\n",
    "import gensim"
   ]
  },
  {
   "cell_type": "code",
   "execution_count": 9,
   "id": "d58e8bb2",
   "metadata": {
    "execution": {
     "iopub.execute_input": "2021-08-24T19:22:46.088421Z",
     "iopub.status.busy": "2021-08-24T19:22:46.087469Z",
     "iopub.status.idle": "2021-08-24T19:22:46.091669Z",
     "shell.execute_reply": "2021-08-24T19:22:46.092882Z",
     "shell.execute_reply.started": "2021-08-24T19:07:41.588350Z"
    },
    "papermill": {
     "duration": 0.061857,
     "end_time": "2021-08-24T19:22:46.093168",
     "exception": false,
     "start_time": "2021-08-24T19:22:46.031311",
     "status": "completed"
    },
    "tags": []
   },
   "outputs": [],
   "source": [
    "'''\n",
    "Write a function to proprocess the entire dataset \n",
    "'''\n",
    "stemmer = SnowballStemmer('english')\n",
    "\n",
    "def lemmatize_stemming(text):\n",
    "    '''This function will lemmatize on Noun POS and stem the text'''\n",
    "    return stemmer.stem(WordNetLemmatizer().lemmatize(text,pos='n'))\n",
    "    #return (WordNetLemmatizer().lemmatize(text,pos='n'))\n",
    "\n",
    "#tokenize and lemmatize\n",
    "def preprocess(text):\n",
    "    '''Function to break into word tokens, remove stopwords, remove short words and finally to lemmatize and stem the individual tokens'''\n",
    "    result = []\n",
    "    for token in gensim.utils.simple_preprocess(text):\n",
    "        if token not in gensim.parsing.preprocessing.STOPWORDS and len(token) > 3:\n",
    "            result.append(lemmatize_stemming(token))\n",
    "    return result"
   ]
  },
  {
   "cell_type": "code",
   "execution_count": 10,
   "id": "e4c38e5d",
   "metadata": {
    "execution": {
     "iopub.execute_input": "2021-08-24T19:22:46.189365Z",
     "iopub.status.busy": "2021-08-24T19:22:46.188504Z",
     "iopub.status.idle": "2021-08-24T19:22:48.018909Z",
     "shell.execute_reply": "2021-08-24T19:22:48.018421Z",
     "shell.execute_reply.started": "2021-08-24T19:07:41.602344Z"
    },
    "papermill": {
     "duration": 1.881236,
     "end_time": "2021-08-24T19:22:48.019054",
     "exception": false,
     "start_time": "2021-08-24T19:22:46.137818",
     "status": "completed"
    },
    "tags": []
   },
   "outputs": [
    {
     "name": "stdout",
     "output_type": "stream",
     "text": [
      "['worst', 'camera', 'seen', 'configur', 'mobil', 'phone', 'better', 'camera', 'resolut', 'batteri', 'drain', 'faster']\n"
     ]
    }
   ],
   "source": [
    "#check for a sample review\n",
    "result = preprocess('The worst camera I have ever seen. Even my very old configuration mobile phone had a better camera resolution. Battery draining faster.')\n",
    "print(result)"
   ]
  },
  {
   "cell_type": "code",
   "execution_count": 11,
   "id": "35715f35",
   "metadata": {
    "execution": {
     "iopub.execute_input": "2021-08-24T19:22:48.103868Z",
     "iopub.status.busy": "2021-08-24T19:22:48.098737Z",
     "iopub.status.idle": "2021-08-24T19:22:51.841179Z",
     "shell.execute_reply": "2021-08-24T19:22:51.840264Z",
     "shell.execute_reply.started": "2021-08-24T19:07:43.409849Z"
    },
    "papermill": {
     "duration": 3.796051,
     "end_time": "2021-08-24T19:22:51.841321",
     "exception": false,
     "start_time": "2021-08-24T19:22:48.045270",
     "status": "completed"
    },
    "tags": []
   },
   "outputs": [],
   "source": [
    "processed_docs = []\n",
    "\n",
    "#uncomment below line to find the topics for a particular sentiment\n",
    "#reviews = reviews[reviews['sentiment']==1]\n",
    "\n",
    "for doc in reviews['review']:\n",
    "    processed_docs.append(preprocess(doc))"
   ]
  },
  {
   "cell_type": "code",
   "execution_count": 12,
   "id": "8baea321",
   "metadata": {
    "execution": {
     "iopub.execute_input": "2021-08-24T19:22:51.896975Z",
     "iopub.status.busy": "2021-08-24T19:22:51.896269Z",
     "iopub.status.idle": "2021-08-24T19:22:51.899338Z",
     "shell.execute_reply": "2021-08-24T19:22:51.899986Z",
     "shell.execute_reply.started": "2021-08-24T19:07:47.140057Z"
    },
    "papermill": {
     "duration": 0.033412,
     "end_time": "2021-08-24T19:22:51.900162",
     "exception": false,
     "start_time": "2021-08-24T19:22:51.866750",
     "status": "completed"
    },
    "tags": []
   },
   "outputs": [
    {
     "name": "stdout",
     "output_type": "stream",
     "text": [
      "[['good', 'need', 'updat', 'improv'], ['worst', 'mobil', 'bought', 'batteri', 'drain', 'like', 'hell', 'backup', 'hour', 'internet', 'us', 'mobil', 'idl', 'get', 'discharg', 'biggest', 'amazon', 'lenov', 'expect', 'make', 'say', 'batteri', 'booster', 'charger', 'fake', 'take', 'hour', 'fulli', 'charg', 'know', 'lenovo', 'surviv', 'make', 'regret', 'like'], ['cash', 'januari'], ['good'], ['worst', 'phone', 'everthey', 'chang', 'phone', 'problem', 'amazon', 'return', 'phone', 'high', 'disappoint', 'amazon'], ['tell', 'buyi', 'total', 'batterypoor', 'camerawast', 'money'], ['phone', 'awesom', 'charg', 'heat', 'allot', 'genuin', 'reason', 'hate', 'lenovo', 'note'], ['batteri', 'level', 'worn'], ['hit', 'problem', 'phone', 'hang', 'problem', 'lenovo', 'note', 'servic', 'station', 'ahmedabad', 'year', 'warranti', 'chang', 'phone', 'lenovo'], ['glitch', 'dont', 'thing', 'better', 'option']]\n"
     ]
    }
   ],
   "source": [
    "'''\n",
    "Preview the processed documents\n",
    "'''\n",
    "print(processed_docs[:10])"
   ]
  },
  {
   "cell_type": "markdown",
   "id": "ae40a4e4",
   "metadata": {
    "papermill": {
     "duration": 0.025673,
     "end_time": "2021-08-24T19:22:51.952738",
     "exception": false,
     "start_time": "2021-08-24T19:22:51.927065",
     "status": "completed"
    },
    "tags": []
   },
   "source": [
    "## _Bag of Words on the Dataset_"
   ]
  },
  {
   "cell_type": "code",
   "execution_count": 13,
   "id": "5a1452a0",
   "metadata": {
    "execution": {
     "iopub.execute_input": "2021-08-24T19:22:52.027370Z",
     "iopub.status.busy": "2021-08-24T19:22:52.017126Z",
     "iopub.status.idle": "2021-08-24T19:22:52.308515Z",
     "shell.execute_reply": "2021-08-24T19:22:52.308025Z",
     "shell.execute_reply.started": "2021-08-24T19:07:47.147005Z"
    },
    "papermill": {
     "duration": 0.330407,
     "end_time": "2021-08-24T19:22:52.308665",
     "exception": false,
     "start_time": "2021-08-24T19:22:51.978258",
     "status": "completed"
    },
    "tags": []
   },
   "outputs": [],
   "source": [
    "'''\n",
    "Create a dictionary of the words which appear in the entire corpus\n",
    "'''\n",
    "dictionary = gensim.corpora.Dictionary(processed_docs)"
   ]
  },
  {
   "cell_type": "code",
   "execution_count": 14,
   "id": "7abf03b1",
   "metadata": {
    "execution": {
     "iopub.execute_input": "2021-08-24T19:22:52.367781Z",
     "iopub.status.busy": "2021-08-24T19:22:52.367279Z",
     "iopub.status.idle": "2021-08-24T19:22:52.372196Z",
     "shell.execute_reply": "2021-08-24T19:22:52.371781Z",
     "shell.execute_reply.started": "2021-08-24T19:07:47.449195Z"
    },
    "papermill": {
     "duration": 0.035795,
     "end_time": "2021-08-24T19:22:52.372306",
     "exception": false,
     "start_time": "2021-08-24T19:22:52.336511",
     "status": "completed"
    },
    "tags": []
   },
   "outputs": [
    {
     "data": {
      "text/plain": [
       "[0, 1, 2, 3, 4, 5, 6, 7, 8, 9]"
      ]
     },
     "execution_count": 14,
     "metadata": {},
     "output_type": "execute_result"
    }
   ],
   "source": [
    "dictionary.keys()[:10]"
   ]
  },
  {
   "cell_type": "code",
   "execution_count": 15,
   "id": "5890a88b",
   "metadata": {
    "execution": {
     "iopub.execute_input": "2021-08-24T19:22:52.432300Z",
     "iopub.status.busy": "2021-08-24T19:22:52.431501Z",
     "iopub.status.idle": "2021-08-24T19:22:52.436272Z",
     "shell.execute_reply": "2021-08-24T19:22:52.435851Z",
     "shell.execute_reply.started": "2021-08-24T19:07:47.458229Z"
    },
    "papermill": {
     "duration": 0.03811,
     "end_time": "2021-08-24T19:22:52.436397",
     "exception": false,
     "start_time": "2021-08-24T19:22:52.398287",
     "status": "completed"
    },
    "tags": []
   },
   "outputs": [
    {
     "name": "stdout",
     "output_type": "stream",
     "text": [
      "0 good\n",
      "1 improv\n",
      "2 need\n",
      "3 updat\n",
      "4 amazon\n",
      "5 backup\n",
      "6 batteri\n",
      "7 biggest\n",
      "8 booster\n",
      "9 bought\n",
      "10 charg\n"
     ]
    }
   ],
   "source": [
    "#print a few words in the dictionary\n",
    "count = 0\n",
    "for k,v in dictionary.iteritems():\n",
    "    print(k,v)\n",
    "    count = count + 1\n",
    "    if count > 10:\n",
    "        break"
   ]
  },
  {
   "cell_type": "markdown",
   "id": "c817d236",
   "metadata": {
    "papermill": {
     "duration": 0.025852,
     "end_time": "2021-08-24T19:22:52.488349",
     "exception": false,
     "start_time": "2021-08-24T19:22:52.462497",
     "status": "completed"
    },
    "tags": []
   },
   "source": [
    "### _Gensim filter extremes_\n",
    "- _Remove or filter the words that appear less than nobelow_\n",
    "- _Remove or filter the words that apepar more than noabove (fraction)_\n",
    "- _After the above two steps keep only the n most frequent tokens or keep all_"
   ]
  },
  {
   "cell_type": "code",
   "execution_count": 16,
   "id": "5fe9f681",
   "metadata": {
    "execution": {
     "iopub.execute_input": "2021-08-24T19:22:52.558743Z",
     "iopub.status.busy": "2021-08-24T19:22:52.558052Z",
     "iopub.status.idle": "2021-08-24T19:22:52.560538Z",
     "shell.execute_reply": "2021-08-24T19:22:52.560965Z",
     "shell.execute_reply.started": "2021-08-24T19:07:47.474029Z"
    },
    "papermill": {
     "duration": 0.046716,
     "end_time": "2021-08-24T19:22:52.561090",
     "exception": false,
     "start_time": "2021-08-24T19:22:52.514374",
     "status": "completed"
    },
    "tags": []
   },
   "outputs": [],
   "source": [
    "dictionary.filter_extremes(no_below=5,no_above=0.1,keep_n=None)"
   ]
  },
  {
   "cell_type": "markdown",
   "id": "afecfc0c",
   "metadata": {
    "papermill": {
     "duration": 0.027403,
     "end_time": "2021-08-24T19:22:52.614493",
     "exception": false,
     "start_time": "2021-08-24T19:22:52.587090",
     "status": "completed"
    },
    "tags": []
   },
   "source": [
    "### _Gensim doc2bow_\n",
    "- _Create a bag of words for each document ie for each document we create a dictionary reporting how many words and how many times those words appear_"
   ]
  },
  {
   "cell_type": "code",
   "execution_count": 17,
   "id": "a20aa353",
   "metadata": {
    "execution": {
     "iopub.execute_input": "2021-08-24T19:22:52.706485Z",
     "iopub.status.busy": "2021-08-24T19:22:52.696191Z",
     "iopub.status.idle": "2021-08-24T19:22:52.790356Z",
     "shell.execute_reply": "2021-08-24T19:22:52.790729Z",
     "shell.execute_reply.started": "2021-08-24T19:07:47.496892Z"
    },
    "papermill": {
     "duration": 0.148994,
     "end_time": "2021-08-24T19:22:52.790903",
     "exception": false,
     "start_time": "2021-08-24T19:22:52.641909",
     "status": "completed"
    },
    "tags": []
   },
   "outputs": [],
   "source": [
    "bow_corpus = [dictionary.doc2bow(doc) for doc in processed_docs]"
   ]
  },
  {
   "cell_type": "code",
   "execution_count": 18,
   "id": "ee4851c3",
   "metadata": {
    "execution": {
     "iopub.execute_input": "2021-08-24T19:22:52.851157Z",
     "iopub.status.busy": "2021-08-24T19:22:52.850434Z",
     "iopub.status.idle": "2021-08-24T19:22:52.853826Z",
     "shell.execute_reply": "2021-08-24T19:22:52.853440Z",
     "shell.execute_reply.started": "2021-08-24T19:07:47.631185Z"
    },
    "papermill": {
     "duration": 0.036568,
     "end_time": "2021-08-24T19:22:52.853979",
     "exception": false,
     "start_time": "2021-08-24T19:22:52.817411",
     "status": "completed"
    },
    "tags": []
   },
   "outputs": [
    {
     "data": {
      "text/plain": [
       "[[(57, 1)],\n",
       " [(9, 1), (58, 1), (59, 1)],\n",
       " [(60, 1), (61, 1), (62, 1), (63, 1)],\n",
       " [(29, 1), (35, 2), (59, 1), (61, 1), (64, 1), (65, 1)],\n",
       " [(4, 1), (66, 1), (67, 1), (68, 1), (69, 1)],\n",
       " [(70, 1), (71, 1)],\n",
       " [(72, 1), (73, 1), (74, 1), (75, 1)],\n",
       " [(3, 2),\n",
       "  (7, 1),\n",
       "  (76, 1),\n",
       "  (77, 2),\n",
       "  (78, 1),\n",
       "  (79, 1),\n",
       "  (80, 1),\n",
       "  (81, 1),\n",
       "  (82, 2),\n",
       "  (83, 1),\n",
       "  (84, 2),\n",
       "  (85, 1),\n",
       "  (86, 1)],\n",
       " [(11, 1), (20, 1), (38, 1), (61, 1), (87, 1), (88, 1), (89, 1)],\n",
       " [(90, 1)]]"
      ]
     },
     "execution_count": 18,
     "metadata": {},
     "output_type": "execute_result"
    }
   ],
   "source": [
    "bow_corpus[10:20]"
   ]
  },
  {
   "cell_type": "code",
   "execution_count": 19,
   "id": "bb5236c9",
   "metadata": {
    "execution": {
     "iopub.execute_input": "2021-08-24T19:22:52.916773Z",
     "iopub.status.busy": "2021-08-24T19:22:52.916077Z",
     "iopub.status.idle": "2021-08-24T19:22:52.919260Z",
     "shell.execute_reply": "2021-08-24T19:22:52.919711Z",
     "shell.execute_reply.started": "2021-08-24T19:07:47.641771Z"
    },
    "papermill": {
     "duration": 0.038357,
     "end_time": "2021-08-24T19:22:52.919839",
     "exception": false,
     "start_time": "2021-08-24T19:22:52.881482",
     "status": "completed"
    },
    "tags": []
   },
   "outputs": [
    {
     "name": "stdout",
     "output_type": "stream",
     "text": [
      "Word 4 backup appears 1 times\n",
      "Word 22 like appears 2 times\n",
      "Word 62 poor appears 1 times\n",
      "Word 91 atmo appears 1 times\n",
      "Word 115 simpli appears 1 times\n",
      "Word 122 frequent appears 2 times\n",
      "Word 141 min appears 1 times\n",
      "Word 160 app appears 1 times\n",
      "Word 179 usag appears 1 times\n",
      "Word 208 drop appears 1 times\n",
      "Word 288 game appears 2 times\n",
      "Word 293 processor appears 1 times\n",
      "Word 307 compar appears 1 times\n",
      "Word 309 dolbi appears 1 times\n",
      "Word 353 probabl appears 1 times\n",
      "Word 453 jack appears 1 times\n",
      "Word 508 crash appears 1 times\n",
      "Word 519 post appears 1 times\n",
      "Word 575 differ appears 1 times\n",
      "Word 636 lag appears 1 times\n",
      "Word 698 consid appears 1 times\n",
      "Word 715 mediatek appears 1 times\n",
      "Word 717 primari appears 1 times\n",
      "Word 737 real appears 1 times\n",
      "Word 766 accept appears 1 times\n",
      "Word 815 limit appears 1 times\n",
      "Word 865 trade appears 1 times\n",
      "Word 883 bulki appears 1 times\n",
      "Word 1536 uncomfort appears 1 times\n"
     ]
    }
   ],
   "source": [
    "document_num = random\n",
    "bow_doc_x = bow_corpus[random]\n",
    "\n",
    "for i in range(len(bow_doc_x)):\n",
    "    print(f'Word {bow_doc_x[i][0]} {dictionary[bow_doc_x[i][0]]} appears {bow_doc_x[i][1]} times')"
   ]
  },
  {
   "cell_type": "markdown",
   "id": "010aa76f",
   "metadata": {
    "papermill": {
     "duration": 0.027142,
     "end_time": "2021-08-24T19:22:52.973818",
     "exception": false,
     "start_time": "2021-08-24T19:22:52.946676",
     "status": "completed"
    },
    "tags": []
   },
   "source": [
    "## _Running LDA using Bag of Words_"
   ]
  },
  {
   "cell_type": "code",
   "execution_count": 20,
   "id": "01a04e2f",
   "metadata": {
    "execution": {
     "iopub.execute_input": "2021-08-24T19:22:53.034158Z",
     "iopub.status.busy": "2021-08-24T19:22:53.033458Z",
     "iopub.status.idle": "2021-08-24T19:23:48.176614Z",
     "shell.execute_reply": "2021-08-24T19:23:48.176081Z",
     "shell.execute_reply.started": "2021-08-24T19:07:47.651472Z"
    },
    "papermill": {
     "duration": 55.176198,
     "end_time": "2021-08-24T19:23:48.176769",
     "exception": false,
     "start_time": "2021-08-24T19:22:53.000571",
     "status": "completed"
    },
    "tags": []
   },
   "outputs": [],
   "source": [
    "#apply the gensim LDA model and generate 12 topics from the corpus\n",
    "seed = 41\n",
    "lda_model = gensim.models.LdaMulticore(corpus=bow_corpus,num_topics=12,id2word=dictionary,passes=10,workers=2,\n",
    "                                      random_state=seed,minimum_probability=0.05,alpha='symmetric')"
   ]
  },
  {
   "cell_type": "code",
   "execution_count": 21,
   "id": "fdc620f3",
   "metadata": {
    "execution": {
     "iopub.execute_input": "2021-08-24T19:23:48.236421Z",
     "iopub.status.busy": "2021-08-24T19:23:48.235554Z",
     "iopub.status.idle": "2021-08-24T19:23:48.245364Z",
     "shell.execute_reply": "2021-08-24T19:23:48.244749Z",
     "shell.execute_reply.started": "2021-08-24T19:08:40.781005Z"
    },
    "papermill": {
     "duration": 0.041382,
     "end_time": "2021-08-24T19:23:48.245504",
     "exception": false,
     "start_time": "2021-08-24T19:23:48.204122",
     "status": "completed"
    },
    "tags": []
   },
   "outputs": [
    {
     "name": "stdout",
     "output_type": "stream",
     "text": [
      "Topic: 0 \n",
      "Words: 0.083*\"charg\" + 0.064*\"charger\" + 0.062*\"fast\" + 0.059*\"drain\" + 0.042*\"updat\" + 0.041*\"great\" + 0.039*\"turbo\" + 0.021*\"slow\" + 0.020*\"month\" + 0.020*\"time\" + 0.018*\"life\" + 0.017*\"receiv\" + 0.016*\"worst\" + 0.016*\"long\" + 0.014*\"get\"\n",
      "\n",
      "\n",
      "Topic: 1 \n",
      "Words: 0.113*\"charg\" + 0.044*\"poor\" + 0.041*\"hour\" + 0.029*\"get\" + 0.029*\"time\" + 0.026*\"take\" + 0.023*\"glass\" + 0.023*\"drain\" + 0.021*\"fast\" + 0.019*\"issu\" + 0.017*\"screen\" + 0.016*\"backup\" + 0.015*\"qualiti\" + 0.015*\"gorilla\" + 0.013*\"mark\"\n",
      "\n",
      "\n",
      "Topic: 2 \n",
      "Words: 0.120*\"problem\" + 0.075*\"issu\" + 0.050*\"network\" + 0.025*\"connect\" + 0.022*\"face\" + 0.018*\"hang\" + 0.017*\"time\" + 0.016*\"call\" + 0.015*\"signal\" + 0.013*\"updat\" + 0.013*\"automat\" + 0.013*\"get\" + 0.012*\"restart\" + 0.012*\"start\" + 0.011*\"note\"\n",
      "\n",
      "\n",
      "Topic: 3 \n",
      "Words: 0.059*\"amazon\" + 0.045*\"servic\" + 0.039*\"return\" + 0.030*\"replac\" + 0.025*\"worst\" + 0.025*\"like\" + 0.022*\"purchas\" + 0.021*\"custom\" + 0.019*\"day\" + 0.016*\"devic\" + 0.015*\"want\" + 0.014*\"defect\" + 0.013*\"center\" + 0.012*\"care\" + 0.011*\"time\"\n",
      "\n",
      "\n",
      "Topic: 4 \n",
      "Words: 0.040*\"note\" + 0.030*\"featur\" + 0.029*\"support\" + 0.028*\"worth\" + 0.023*\"android\" + 0.022*\"satisfi\" + 0.017*\"killer\" + 0.017*\"plus\" + 0.016*\"slot\" + 0.015*\"stock\" + 0.015*\"user\" + 0.014*\"like\" + 0.013*\"dual\" + 0.012*\"card\" + 0.012*\"volta\"\n",
      "\n",
      "\n",
      "Topic: 5 \n",
      "Words: 0.051*\"screen\" + 0.043*\"expect\" + 0.039*\"option\" + 0.033*\"problem\" + 0.033*\"cast\" + 0.032*\"speaker\" + 0.027*\"avail\" + 0.025*\"featur\" + 0.023*\"miss\" + 0.022*\"record\" + 0.019*\"like\" + 0.016*\"smart\" + 0.012*\"hang\" + 0.012*\"function\" + 0.011*\"contact\"\n",
      "\n",
      "\n",
      "Topic: 6 \n",
      "Words: 0.097*\"price\" + 0.091*\"best\" + 0.040*\"rang\" + 0.032*\"better\" + 0.028*\"amaz\" + 0.026*\"great\" + 0.023*\"perform\" + 0.023*\"processor\" + 0.023*\"featur\" + 0.016*\"smartphon\" + 0.014*\"budget\" + 0.014*\"look\" + 0.014*\"qualiti\" + 0.014*\"game\" + 0.012*\"core\"\n",
      "\n",
      "\n",
      "Topic: 7 \n",
      "Words: 0.289*\"nice\" + 0.122*\"awesom\" + 0.097*\"perform\" + 0.052*\"backup\" + 0.030*\"overal\" + 0.029*\"issu\" + 0.028*\"love\" + 0.019*\"look\" + 0.018*\"handset\" + 0.016*\"featur\" + 0.014*\"littl\" + 0.011*\"smooth\" + 0.009*\"process\" + 0.008*\"quick\" + 0.008*\"life\"\n",
      "\n",
      "\n",
      "Topic: 8 \n",
      "Words: 0.091*\"note\" + 0.061*\"excel\" + 0.043*\"amazon\" + 0.035*\"deliveri\" + 0.032*\"thank\" + 0.032*\"dolbi\" + 0.021*\"sound\" + 0.018*\"atmo\" + 0.015*\"headphon\" + 0.013*\"fast\" + 0.013*\"time\" + 0.013*\"speaker\" + 0.012*\"compar\" + 0.012*\"better\" + 0.009*\"given\"\n",
      "\n",
      "\n",
      "Topic: 9 \n",
      "Words: 0.063*\"super\" + 0.051*\"proper\" + 0.024*\"record\" + 0.016*\"bluetooth\" + 0.014*\"nahi\" + 0.013*\"featur\" + 0.013*\"headset\" + 0.013*\"voic\" + 0.012*\"download\" + 0.011*\"facil\" + 0.011*\"main\" + 0.011*\"earphon\" + 0.011*\"seller\" + 0.010*\"signal\" + 0.010*\"time\"\n",
      "\n",
      "\n",
      "Topic: 10 \n",
      "Words: 0.114*\"qualiti\" + 0.064*\"money\" + 0.062*\"worst\" + 0.034*\"sound\" + 0.031*\"valu\" + 0.027*\"wast\" + 0.026*\"poor\" + 0.021*\"video\" + 0.016*\"music\" + 0.015*\"photo\" + 0.013*\"pictur\" + 0.012*\"issu\" + 0.011*\"clariti\" + 0.011*\"total\" + 0.011*\"experi\"\n",
      "\n",
      "\n",
      "Topic: 11 \n",
      "Words: 0.034*\"mode\" + 0.027*\"dual\" + 0.024*\"depth\" + 0.020*\"averag\" + 0.018*\"updat\" + 0.017*\"superb\" + 0.014*\"need\" + 0.013*\"rear\" + 0.013*\"effect\" + 0.013*\"like\" + 0.011*\"qualiti\" + 0.011*\"note\" + 0.011*\"game\" + 0.011*\"display\" + 0.010*\"time\"\n",
      "\n",
      "\n"
     ]
    }
   ],
   "source": [
    "'''\n",
    "For each topic, explore each word and its relative weight in the topic\n",
    "'''\n",
    "\n",
    "for idx,topic in lda_model.print_topics(-1,num_words=15):\n",
    "    print(\"Topic: {} \\nWords: {}\".format(idx, topic ))\n",
    "    print(\"\\n\")\n",
    "    "
   ]
  },
  {
   "cell_type": "code",
   "execution_count": 22,
   "id": "111e8926",
   "metadata": {
    "execution": {
     "iopub.execute_input": "2021-08-24T19:23:48.304623Z",
     "iopub.status.busy": "2021-08-24T19:23:48.303786Z",
     "iopub.status.idle": "2021-08-24T19:23:49.938935Z",
     "shell.execute_reply": "2021-08-24T19:23:49.939522Z",
     "shell.execute_reply.started": "2021-08-24T19:08:40.797951Z"
    },
    "papermill": {
     "duration": 1.667008,
     "end_time": "2021-08-24T19:23:49.939711",
     "exception": false,
     "start_time": "2021-08-24T19:23:48.272703",
     "status": "completed"
    },
    "tags": []
   },
   "outputs": [
    {
     "name": "stdout",
     "output_type": "stream",
     "text": [
      "\n",
      "Coherence Score: 0.6080062054038797\n"
     ]
    }
   ],
   "source": [
    "#import Coherence model from gensim\n",
    "from gensim.models import CoherenceModel\n",
    "#compute coherence score\n",
    "lda_model_coherence = CoherenceModel(model=lda_model,texts=processed_docs,dictionary=dictionary,\n",
    "                                    coherence='c_v')\n",
    "coherence_lda = lda_model_coherence.get_coherence()\n",
    "print('\\nCoherence Score:',coherence_lda)"
   ]
  },
  {
   "cell_type": "markdown",
   "id": "4e21cca5",
   "metadata": {
    "papermill": {
     "duration": 0.027344,
     "end_time": "2021-08-24T19:23:49.995393",
     "exception": false,
     "start_time": "2021-08-24T19:23:49.968049",
     "status": "completed"
    },
    "tags": []
   },
   "source": [
    "## _Hyperparameter Tuning_\n",
    "- _Number of topics K_\n",
    "- _Dirichlet hyperparamater alpha: Document Topic Density_\n",
    "- _Dirichlet hyperparameter beta: Word-Topic Density_"
   ]
  },
  {
   "cell_type": "code",
   "execution_count": 23,
   "id": "56c3cd6c",
   "metadata": {
    "execution": {
     "iopub.execute_input": "2021-08-24T19:23:50.058608Z",
     "iopub.status.busy": "2021-08-24T19:23:50.057668Z",
     "iopub.status.idle": "2021-08-24T19:23:50.060161Z",
     "shell.execute_reply": "2021-08-24T19:23:50.060581Z",
     "shell.execute_reply.started": "2021-08-24T19:08:42.355213Z"
    },
    "papermill": {
     "duration": 0.037836,
     "end_time": "2021-08-24T19:23:50.060729",
     "exception": false,
     "start_time": "2021-08-24T19:23:50.022893",
     "status": "completed"
    },
    "tags": []
   },
   "outputs": [],
   "source": [
    "#define a helper function\n",
    "def compute_coherence_score(corpus,dictionary,k,a):\n",
    "    #instantiate the model instance based on k,a and b\n",
    "    lda_model = gensim.models.LdaMulticore(corpus=corpus,id2word=dictionary,num_topics=k,alpha=a,\n",
    "                                           passes=10,\n",
    "                                           random_state=seed)\n",
    "    lda_model_coherence = CoherenceModel(model=lda_model,texts=processed_docs,dictionary=dictionary,coherence='c_v')\n",
    "    return lda_model_coherence.get_coherence()\n",
    "    "
   ]
  },
  {
   "cell_type": "code",
   "execution_count": 24,
   "id": "dab6b012",
   "metadata": {
    "execution": {
     "iopub.execute_input": "2021-08-24T19:23:50.124318Z",
     "iopub.status.busy": "2021-08-24T19:23:50.123478Z",
     "iopub.status.idle": "2021-08-24T19:34:51.189268Z",
     "shell.execute_reply": "2021-08-24T19:34:51.189701Z",
     "shell.execute_reply.started": "2021-08-24T19:08:42.363388Z"
    },
    "papermill": {
     "duration": 661.100274,
     "end_time": "2021-08-24T19:34:51.189878",
     "exception": false,
     "start_time": "2021-08-24T19:23:50.089604",
     "status": "completed"
    },
    "tags": []
   },
   "outputs": [
    {
     "name": "stdout",
     "output_type": "stream",
     "text": [
      "Coherence Model with alpha = symmetric\n",
      "-------------------------------------------\n",
      "\n",
      "\n",
      "Coherence score with 5 topics is 0.6228705548263168\n",
      "\n",
      "\n",
      "Coherence score with 6 topics is 0.6268329837991741\n",
      "\n",
      "\n",
      "Coherence score with 7 topics is 0.6027933639811585\n",
      "\n",
      "\n",
      "Coherence score with 8 topics is 0.5787400939541569\n",
      "\n",
      "\n",
      "Coherence score with 9 topics is 0.6016156349915794\n",
      "\n",
      "\n",
      "Coherence Model with alpha = asymmetric\n",
      "-------------------------------------------\n",
      "\n",
      "\n",
      "Coherence score with 5 topics is 0.6514538783671764\n",
      "\n",
      "\n",
      "Coherence score with 6 topics is 0.6481755938811579\n",
      "\n",
      "\n",
      "Coherence score with 7 topics is 0.6519655361087151\n",
      "\n",
      "\n",
      "Coherence score with 8 topics is 0.6569641205031185\n",
      "\n",
      "\n",
      "Coherence score with 9 topics is 0.6636023351084233\n",
      "\n",
      "\n"
     ]
    }
   ],
   "source": [
    "#search for the best alpha and the number of topics --> one with the highest coherence score will be the best hyperparameter\n",
    "alpha =['symmetric','asymmetric']\n",
    "\n",
    "for x in alpha:\n",
    "    print('Coherence Model with alpha = {}'.format(x))\n",
    "    print('-------------------------------------------')\n",
    "    print('\\n')\n",
    "    for i in range(5,10):\n",
    "        score = compute_coherence_score(corpus=bow_corpus,dictionary=dictionary,k=i,a=x)        \n",
    "        print(f'Coherence score with {i} topics is {score}')\n",
    "        print('\\n')"
   ]
  },
  {
   "cell_type": "code",
   "execution_count": 25,
   "id": "ca4b8445",
   "metadata": {
    "execution": {
     "iopub.execute_input": "2021-08-24T19:34:51.256009Z",
     "iopub.status.busy": "2021-08-24T19:34:51.255266Z",
     "iopub.status.idle": "2021-08-24T19:35:48.765656Z",
     "shell.execute_reply": "2021-08-24T19:35:48.765176Z",
     "shell.execute_reply.started": "2021-08-24T19:19:18.544447Z"
    },
    "papermill": {
     "duration": 57.545396,
     "end_time": "2021-08-24T19:35:48.765787",
     "exception": false,
     "start_time": "2021-08-24T19:34:51.220391",
     "status": "completed"
    },
    "tags": []
   },
   "outputs": [],
   "source": [
    "'''\n",
    "Though the model with alpha='asymmetric' and with 12 topics returned the highest coherence score. For the business use and simplicity, max topics of 7\n",
    "and alpha='asymmetric' as the final model. This also returned a comparable coherence score of 0.6262\n",
    "'''\n",
    "lda_model_final = gensim.models.LdaMulticore(corpus=bow_corpus,num_topics=7,id2word=dictionary,passes=10,workers=2,alpha='asymmetric')"
   ]
  },
  {
   "cell_type": "code",
   "execution_count": 26,
   "id": "c232cd3a",
   "metadata": {
    "execution": {
     "iopub.execute_input": "2021-08-24T19:35:48.833680Z",
     "iopub.status.busy": "2021-08-24T19:35:48.832719Z",
     "iopub.status.idle": "2021-08-24T19:35:48.845124Z",
     "shell.execute_reply": "2021-08-24T19:35:48.844398Z",
     "shell.execute_reply.started": "2021-08-24T19:20:14.653908Z"
    },
    "papermill": {
     "duration": 0.047935,
     "end_time": "2021-08-24T19:35:48.845238",
     "exception": false,
     "start_time": "2021-08-24T19:35:48.797303",
     "status": "completed"
    },
    "tags": []
   },
   "outputs": [
    {
     "name": "stdout",
     "output_type": "stream",
     "text": [
      "[(0,\n",
      "  '0.078*\"nice\" + 0.048*\"price\" + 0.047*\"best\" + 0.039*\"awesom\" + '\n",
      "  '0.034*\"perform\" + 0.030*\"backup\" + 0.026*\"excel\" + 0.026*\"great\" + '\n",
      "  '0.021*\"money\" + 0.021*\"featur\"'),\n",
      " (1,\n",
      "  '0.073*\"note\" + 0.031*\"featur\" + 0.024*\"option\" + 0.024*\"like\" + '\n",
      "  '0.024*\"screen\" + 0.023*\"better\" + 0.020*\"record\" + 0.017*\"avail\" + '\n",
      "  '0.017*\"cast\" + 0.016*\"miss\"'),\n",
      " (2,\n",
      "  '0.103*\"qualiti\" + 0.061*\"poor\" + 0.050*\"sound\" + 0.037*\"speaker\" + '\n",
      "  '0.029*\"expect\" + 0.027*\"dolbi\" + 0.022*\"perform\" + 0.018*\"averag\" + '\n",
      "  '0.016*\"earphon\" + 0.015*\"receiv\"'),\n",
      " (3,\n",
      "  '0.091*\"problem\" + 0.046*\"issu\" + 0.028*\"servic\" + 0.021*\"amazon\" + '\n",
      "  '0.021*\"updat\" + 0.020*\"return\" + 0.019*\"hang\" + 0.019*\"replac\" + '\n",
      "  '0.017*\"month\" + 0.017*\"purchas\"'),\n",
      " (4,\n",
      "  '0.064*\"worst\" + 0.037*\"amazon\" + 0.031*\"network\" + 0.022*\"issu\" + '\n",
      "  '0.020*\"wast\" + 0.017*\"money\" + 0.017*\"signal\" + 0.016*\"call\" + 0.014*\"time\" '\n",
      "  '+ 0.013*\"return\"'),\n",
      " (5,\n",
      "  '0.155*\"charg\" + 0.047*\"charger\" + 0.041*\"hour\" + 0.040*\"fast\" + '\n",
      "  '0.039*\"turbo\" + 0.036*\"time\" + 0.032*\"drain\" + 0.032*\"take\" + 0.025*\"get\" + '\n",
      "  '0.023*\"glass\"'),\n",
      " (6,\n",
      "  '0.022*\"game\" + 0.017*\"issu\" + 0.016*\"play\" + 0.016*\"mode\" + 0.016*\"like\" + '\n",
      "  '0.014*\"usag\" + 0.013*\"depth\" + 0.013*\"android\" + 0.012*\"devic\" + '\n",
      "  '0.011*\"video\"')]\n"
     ]
    }
   ],
   "source": [
    "from pprint import pprint\n",
    "# Print the Keyword in the 7 topics\n",
    "pprint(lda_model_final.print_topics())\n",
    "doc_lda = lda_model_final[bow_corpus]"
   ]
  },
  {
   "cell_type": "markdown",
   "id": "cb72312a",
   "metadata": {
    "papermill": {
     "duration": 0.031419,
     "end_time": "2021-08-24T19:35:48.907815",
     "exception": false,
     "start_time": "2021-08-24T19:35:48.876396",
     "status": "completed"
    },
    "tags": []
   },
   "source": [
    "## _Topic Classification_\n",
    "\n",
    "- _Topic 1: Nice performance for the budget (all the good reviews)_\n",
    "- _Topic 2: Problems with battery charge and drain_\n",
    "- _Topic 3: Poor quality of sound and video_\n",
    "- _Topic 4: Reliiability issues very early since bought_\n",
    "- _Topic 5: Connectivity Issues_ \n",
    "- _Topic 6: Poor customer and replacement service_\n",
    "- _Topic 7: Quality and Reliability Issues like phone hangs_ "
   ]
  },
  {
   "cell_type": "code",
   "execution_count": null,
   "id": "0d613e17",
   "metadata": {
    "papermill": {
     "duration": 0.031553,
     "end_time": "2021-08-24T19:35:48.971069",
     "exception": false,
     "start_time": "2021-08-24T19:35:48.939516",
     "status": "completed"
    },
    "tags": []
   },
   "outputs": [],
   "source": []
  }
 ],
 "metadata": {
  "kernelspec": {
   "display_name": "Python 3",
   "language": "python",
   "name": "python3"
  },
  "language_info": {
   "codemirror_mode": {
    "name": "ipython",
    "version": 3
   },
   "file_extension": ".py",
   "mimetype": "text/x-python",
   "name": "python",
   "nbconvert_exporter": "python",
   "pygments_lexer": "ipython3",
   "version": "3.7.10"
  },
  "papermill": {
   "default_parameters": {},
   "duration": 793.816626,
   "end_time": "2021-08-24T19:35:50.347519",
   "environment_variables": {},
   "exception": null,
   "input_path": "__notebook__.ipynb",
   "output_path": "__notebook__.ipynb",
   "parameters": {},
   "start_time": "2021-08-24T19:22:36.530893",
   "version": "2.3.3"
  }
 },
 "nbformat": 4,
 "nbformat_minor": 5
}
